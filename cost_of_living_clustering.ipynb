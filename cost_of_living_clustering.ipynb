{
  "nbformat": 4,
  "nbformat_minor": 0,
  "metadata": {
    "colab": {
      "name": "Untitled3.ipynb",
      "provenance": [],
      "authorship_tag": "ABX9TyM2FiO0jJL+HlTM+y1WNSzt",
      "include_colab_link": true
    },
    "kernelspec": {
      "name": "python3",
      "display_name": "Python 3"
    }
  },
  "cells": [
    {
      "cell_type": "markdown",
      "metadata": {
        "id": "view-in-github",
        "colab_type": "text"
      },
      "source": [
        "<a href=\"https://colab.research.google.com/github/gizattos/cost_of_living_clustering/blob/master/cost_of_living_clustering.ipynb\" target=\"_parent\"><img src=\"https://colab.research.google.com/assets/colab-badge.svg\" alt=\"Open In Colab\"/></a>"
      ]
    },
    {
      "cell_type": "code",
      "metadata": {
        "id": "m_MkM66wA3iz",
        "colab_type": "code",
        "colab": {}
      },
      "source": [
        "\n",
        "## importando bibliotecas\n",
        "import seaborn as sns\n",
        "import matplotlib.pyplot as plt\n",
        "import pandas as pd\n",
        "import sklearn\n",
        "import warnings\n",
        "warnings.filterwarnings('ignore')\n",
        "import numpy as np\n",
        "from sklearn.linear_model import LinearRegression\n",
        "from sklearn.model_selection import train_test_split\n",
        "from sklearn.metrics import mean_squared_error\n",
        "from sklearn.metrics import r2_score\n",
        "from sklearn import metrics\n",
        "from sklearn.cluster import KMeans\n",
        "from sklearn import preprocessing\n"
      ],
      "execution_count": 0,
      "outputs": []
    },
    {
      "cell_type": "markdown",
      "metadata": {
        "id": "OQR_tn84Ba--",
        "colab_type": "text"
      },
      "source": [
        "<h1>Lendo CSV</h1>"
      ]
    },
    {
      "cell_type": "code",
      "metadata": {
        "id": "mh2gN4UNBY98",
        "colab_type": "code",
        "outputId": "06d21b31-4ec7-49ec-8993-2ac738bb38d0",
        "colab": {
          "base_uri": "https://localhost:8080/",
          "height": 462
        }
      },
      "source": [
        "## realizando transposição de colunas\n",
        "df = pd.read_csv('/content/cost-of-living.csv',index_col=[0]).T.reset_index()\n",
        "df = df.rename(columns={'index':'local'})\n",
        "df.head()"
      ],
      "execution_count": 651,
      "outputs": [
        {
          "output_type": "execute_result",
          "data": {
            "text/html": [
              "<div>\n",
              "<style scoped>\n",
              "    .dataframe tbody tr th:only-of-type {\n",
              "        vertical-align: middle;\n",
              "    }\n",
              "\n",
              "    .dataframe tbody tr th {\n",
              "        vertical-align: top;\n",
              "    }\n",
              "\n",
              "    .dataframe thead th {\n",
              "        text-align: right;\n",
              "    }\n",
              "</style>\n",
              "<table border=\"1\" class=\"dataframe\">\n",
              "  <thead>\n",
              "    <tr style=\"text-align: right;\">\n",
              "      <th></th>\n",
              "      <th>local</th>\n",
              "      <th>Meal, Inexpensive Restaurant</th>\n",
              "      <th>Meal for 2 People, Mid-range Restaurant, Three-course</th>\n",
              "      <th>McMeal at McDonalds (or Equivalent Combo Meal)</th>\n",
              "      <th>Domestic Beer (0.5 liter draught)</th>\n",
              "      <th>Imported Beer (0.33 liter bottle)</th>\n",
              "      <th>Coke/Pepsi (0.33 liter bottle)</th>\n",
              "      <th>Water (0.33 liter bottle)</th>\n",
              "      <th>Milk (regular), (1 liter)</th>\n",
              "      <th>Loaf of Fresh White Bread (500g)</th>\n",
              "      <th>Eggs (regular) (12)</th>\n",
              "      <th>Local Cheese (1kg)</th>\n",
              "      <th>Water (1.5 liter bottle)</th>\n",
              "      <th>Bottle of Wine (Mid-Range)</th>\n",
              "      <th>Domestic Beer (0.5 liter bottle)</th>\n",
              "      <th>Imported Beer (0.33 liter bottle)</th>\n",
              "      <th>Cigarettes 20 Pack (Marlboro)</th>\n",
              "      <th>One-way Ticket (Local Transport)</th>\n",
              "      <th>Chicken Breasts (Boneless, Skinless), (1kg)</th>\n",
              "      <th>Monthly Pass (Regular Price)</th>\n",
              "      <th>Gasoline (1 liter)</th>\n",
              "      <th>Volkswagen Golf</th>\n",
              "      <th>Apartment (1 bedroom) in City Centre</th>\n",
              "      <th>Apartment (1 bedroom) Outside of Centre</th>\n",
              "      <th>Apartment (3 bedrooms) in City Centre</th>\n",
              "      <th>Apartment (3 bedrooms) Outside of Centre</th>\n",
              "      <th>Basic (Electricity, Heating, Cooling, Water, Garbage) for 85m2 Apartment</th>\n",
              "      <th>1 min. of Prepaid Mobile Tariff Local (No Discounts or Plans)</th>\n",
              "      <th>Internet (60 Mbps or More, Unlimited Data, Cable/ADSL)</th>\n",
              "      <th>Fitness Club, Monthly Fee for 1 Adult</th>\n",
              "      <th>Tennis Court Rent (1 Hour on Weekend)</th>\n",
              "      <th>Cinema, International Release, 1 Seat</th>\n",
              "      <th>1 Pair of Jeans (Levis 501 Or Similar)</th>\n",
              "      <th>1 Summer Dress in a Chain Store (Zara, H&amp;M, ...)</th>\n",
              "      <th>1 Pair of Nike Running Shoes (Mid-Range)</th>\n",
              "      <th>1 Pair of Men Leather Business Shoes</th>\n",
              "      <th>Price per Square Meter to Buy Apartment in City Centre</th>\n",
              "      <th>Price per Square Meter to Buy Apartment Outside of Centre</th>\n",
              "      <th>Average Monthly Net Salary (After Tax)</th>\n",
              "      <th>Mortgage Interest Rate in Percentages (%), Yearly, for 20 Years Fixed-Rate</th>\n",
              "      <th>Taxi Start (Normal Tariff)</th>\n",
              "      <th>Taxi 1km (Normal Tariff)</th>\n",
              "      <th>Taxi 1hour Waiting (Normal Tariff)</th>\n",
              "      <th>Apples (1kg)</th>\n",
              "      <th>Oranges (1kg)</th>\n",
              "      <th>Potato (1kg)</th>\n",
              "      <th>Lettuce (1 head)</th>\n",
              "      <th>Cappuccino (regular)</th>\n",
              "      <th>Rice (white), (1kg)</th>\n",
              "      <th>Tomato (1kg)</th>\n",
              "      <th>Banana (1kg)</th>\n",
              "      <th>Onion (1kg)</th>\n",
              "      <th>Beef Round (1kg) (or Equivalent Back Leg Red Meat)</th>\n",
              "      <th>Toyota Corolla 1.6l 97kW Comfort (Or Equivalent New Car)</th>\n",
              "      <th>Preschool (or Kindergarten), Full Day, Private, Monthly for 1 Child</th>\n",
              "      <th>International Primary School, Yearly for 1 Child</th>\n",
              "    </tr>\n",
              "  </thead>\n",
              "  <tbody>\n",
              "    <tr>\n",
              "      <th>0</th>\n",
              "      <td>Saint Petersburg, Russia</td>\n",
              "      <td>7.34</td>\n",
              "      <td>29.35</td>\n",
              "      <td>4.40</td>\n",
              "      <td>2.20</td>\n",
              "      <td>2.20</td>\n",
              "      <td>0.76</td>\n",
              "      <td>0.53</td>\n",
              "      <td>0.98</td>\n",
              "      <td>0.71</td>\n",
              "      <td>1.18</td>\n",
              "      <td>7.60</td>\n",
              "      <td>0.63</td>\n",
              "      <td>5.87</td>\n",
              "      <td>0.88</td>\n",
              "      <td>1.89</td>\n",
              "      <td>2.20</td>\n",
              "      <td>0.59</td>\n",
              "      <td>3.96</td>\n",
              "      <td>42.56</td>\n",
              "      <td>0.67</td>\n",
              "      <td>19289.39</td>\n",
              "      <td>524.45</td>\n",
              "      <td>344.27</td>\n",
              "      <td>1012.53</td>\n",
              "      <td>615.19</td>\n",
              "      <td>102.17</td>\n",
              "      <td>0.03</td>\n",
              "      <td>6.96</td>\n",
              "      <td>26.27</td>\n",
              "      <td>18.33</td>\n",
              "      <td>5.14</td>\n",
              "      <td>71.86</td>\n",
              "      <td>38.25</td>\n",
              "      <td>74.88</td>\n",
              "      <td>100.72</td>\n",
              "      <td>2476.05</td>\n",
              "      <td>1507.70</td>\n",
              "      <td>645.94</td>\n",
              "      <td>10.29</td>\n",
              "      <td>1.47</td>\n",
              "      <td>0.26</td>\n",
              "      <td>4.40</td>\n",
              "      <td>1.29</td>\n",
              "      <td>1.25</td>\n",
              "      <td>0.56</td>\n",
              "      <td>0.86</td>\n",
              "      <td>1.96</td>\n",
              "      <td>0.92</td>\n",
              "      <td>1.91</td>\n",
              "      <td>0.89</td>\n",
              "      <td>0.48</td>\n",
              "      <td>7.18</td>\n",
              "      <td>19305.29</td>\n",
              "      <td>411.83</td>\n",
              "      <td>5388.86</td>\n",
              "    </tr>\n",
              "    <tr>\n",
              "      <th>1</th>\n",
              "      <td>Istanbul, Turkey</td>\n",
              "      <td>4.58</td>\n",
              "      <td>15.28</td>\n",
              "      <td>3.82</td>\n",
              "      <td>3.06</td>\n",
              "      <td>3.06</td>\n",
              "      <td>0.64</td>\n",
              "      <td>0.24</td>\n",
              "      <td>0.71</td>\n",
              "      <td>0.36</td>\n",
              "      <td>1.62</td>\n",
              "      <td>5.32</td>\n",
              "      <td>0.33</td>\n",
              "      <td>7.64</td>\n",
              "      <td>1.79</td>\n",
              "      <td>2.48</td>\n",
              "      <td>2.75</td>\n",
              "      <td>0.41</td>\n",
              "      <td>3.50</td>\n",
              "      <td>31.32</td>\n",
              "      <td>1.05</td>\n",
              "      <td>24443.15</td>\n",
              "      <td>291.55</td>\n",
              "      <td>177.72</td>\n",
              "      <td>545.50</td>\n",
              "      <td>314.98</td>\n",
              "      <td>59.33</td>\n",
              "      <td>0.11</td>\n",
              "      <td>14.20</td>\n",
              "      <td>25.10</td>\n",
              "      <td>15.66</td>\n",
              "      <td>3.82</td>\n",
              "      <td>36.15</td>\n",
              "      <td>25.91</td>\n",
              "      <td>61.31</td>\n",
              "      <td>50.58</td>\n",
              "      <td>1315.18</td>\n",
              "      <td>657.05</td>\n",
              "      <td>436.00</td>\n",
              "      <td>19.08</td>\n",
              "      <td>0.76</td>\n",
              "      <td>0.47</td>\n",
              "      <td>3.59</td>\n",
              "      <td>0.85</td>\n",
              "      <td>0.86</td>\n",
              "      <td>0.59</td>\n",
              "      <td>0.61</td>\n",
              "      <td>1.84</td>\n",
              "      <td>1.30</td>\n",
              "      <td>0.80</td>\n",
              "      <td>1.91</td>\n",
              "      <td>0.62</td>\n",
              "      <td>9.73</td>\n",
              "      <td>20874.72</td>\n",
              "      <td>282.94</td>\n",
              "      <td>6905.43</td>\n",
              "    </tr>\n",
              "    <tr>\n",
              "      <th>2</th>\n",
              "      <td>Izmir, Turkey</td>\n",
              "      <td>3.06</td>\n",
              "      <td>12.22</td>\n",
              "      <td>3.06</td>\n",
              "      <td>2.29</td>\n",
              "      <td>2.75</td>\n",
              "      <td>0.61</td>\n",
              "      <td>0.22</td>\n",
              "      <td>0.65</td>\n",
              "      <td>0.38</td>\n",
              "      <td>1.51</td>\n",
              "      <td>4.97</td>\n",
              "      <td>0.29</td>\n",
              "      <td>6.11</td>\n",
              "      <td>1.63</td>\n",
              "      <td>2.09</td>\n",
              "      <td>2.29</td>\n",
              "      <td>0.46</td>\n",
              "      <td>3.05</td>\n",
              "      <td>22.92</td>\n",
              "      <td>1.04</td>\n",
              "      <td>24443.15</td>\n",
              "      <td>212.22</td>\n",
              "      <td>128.36</td>\n",
              "      <td>353.76</td>\n",
              "      <td>225.34</td>\n",
              "      <td>51.07</td>\n",
              "      <td>0.09</td>\n",
              "      <td>12.89</td>\n",
              "      <td>20.64</td>\n",
              "      <td>11.67</td>\n",
              "      <td>3.06</td>\n",
              "      <td>33.20</td>\n",
              "      <td>22.48</td>\n",
              "      <td>52.74</td>\n",
              "      <td>42.20</td>\n",
              "      <td>856.54</td>\n",
              "      <td>508.14</td>\n",
              "      <td>392.07</td>\n",
              "      <td>22.23</td>\n",
              "      <td>0.61</td>\n",
              "      <td>0.57</td>\n",
              "      <td>3.51</td>\n",
              "      <td>0.77</td>\n",
              "      <td>0.73</td>\n",
              "      <td>0.52</td>\n",
              "      <td>0.57</td>\n",
              "      <td>1.56</td>\n",
              "      <td>1.31</td>\n",
              "      <td>0.70</td>\n",
              "      <td>1.78</td>\n",
              "      <td>0.58</td>\n",
              "      <td>8.61</td>\n",
              "      <td>20898.83</td>\n",
              "      <td>212.18</td>\n",
              "      <td>4948.41</td>\n",
              "    </tr>\n",
              "    <tr>\n",
              "      <th>3</th>\n",
              "      <td>Helsinki, Finland</td>\n",
              "      <td>12.00</td>\n",
              "      <td>65.00</td>\n",
              "      <td>8.00</td>\n",
              "      <td>6.50</td>\n",
              "      <td>6.75</td>\n",
              "      <td>2.66</td>\n",
              "      <td>1.89</td>\n",
              "      <td>0.96</td>\n",
              "      <td>2.27</td>\n",
              "      <td>2.02</td>\n",
              "      <td>6.87</td>\n",
              "      <td>1.54</td>\n",
              "      <td>12.00</td>\n",
              "      <td>2.23</td>\n",
              "      <td>2.95</td>\n",
              "      <td>7.70</td>\n",
              "      <td>2.80</td>\n",
              "      <td>9.42</td>\n",
              "      <td>59.70</td>\n",
              "      <td>1.54</td>\n",
              "      <td>22000.00</td>\n",
              "      <td>986.93</td>\n",
              "      <td>758.13</td>\n",
              "      <td>1819.32</td>\n",
              "      <td>1271.16</td>\n",
              "      <td>82.66</td>\n",
              "      <td>0.07</td>\n",
              "      <td>22.31</td>\n",
              "      <td>34.54</td>\n",
              "      <td>24.72</td>\n",
              "      <td>14.00</td>\n",
              "      <td>83.41</td>\n",
              "      <td>31.41</td>\n",
              "      <td>82.49</td>\n",
              "      <td>120.97</td>\n",
              "      <td>7444.54</td>\n",
              "      <td>4099.36</td>\n",
              "      <td>2382.56</td>\n",
              "      <td>1.38</td>\n",
              "      <td>6.00</td>\n",
              "      <td>1.00</td>\n",
              "      <td>47.04</td>\n",
              "      <td>2.10</td>\n",
              "      <td>1.75</td>\n",
              "      <td>0.91</td>\n",
              "      <td>2.30</td>\n",
              "      <td>3.87</td>\n",
              "      <td>2.13</td>\n",
              "      <td>2.91</td>\n",
              "      <td>1.61</td>\n",
              "      <td>1.25</td>\n",
              "      <td>12.34</td>\n",
              "      <td>24402.77</td>\n",
              "      <td>351.60</td>\n",
              "      <td>1641.00</td>\n",
              "    </tr>\n",
              "    <tr>\n",
              "      <th>4</th>\n",
              "      <td>Chisinau, Moldova</td>\n",
              "      <td>4.67</td>\n",
              "      <td>20.74</td>\n",
              "      <td>4.15</td>\n",
              "      <td>1.04</td>\n",
              "      <td>1.43</td>\n",
              "      <td>0.64</td>\n",
              "      <td>0.44</td>\n",
              "      <td>0.68</td>\n",
              "      <td>0.33</td>\n",
              "      <td>1.11</td>\n",
              "      <td>5.79</td>\n",
              "      <td>0.59</td>\n",
              "      <td>3.61</td>\n",
              "      <td>0.77</td>\n",
              "      <td>1.38</td>\n",
              "      <td>1.56</td>\n",
              "      <td>0.10</td>\n",
              "      <td>3.55</td>\n",
              "      <td>9.33</td>\n",
              "      <td>0.98</td>\n",
              "      <td>16335.12</td>\n",
              "      <td>244.49</td>\n",
              "      <td>177.96</td>\n",
              "      <td>428.67</td>\n",
              "      <td>330.84</td>\n",
              "      <td>113.46</td>\n",
              "      <td>0.07</td>\n",
              "      <td>8.58</td>\n",
              "      <td>26.64</td>\n",
              "      <td>12.10</td>\n",
              "      <td>5.19</td>\n",
              "      <td>56.54</td>\n",
              "      <td>35.37</td>\n",
              "      <td>86.25</td>\n",
              "      <td>94.38</td>\n",
              "      <td>904.82</td>\n",
              "      <td>589.13</td>\n",
              "      <td>286.95</td>\n",
              "      <td>9.42</td>\n",
              "      <td>1.30</td>\n",
              "      <td>0.18</td>\n",
              "      <td>3.11</td>\n",
              "      <td>0.70</td>\n",
              "      <td>1.22</td>\n",
              "      <td>0.56</td>\n",
              "      <td>0.84</td>\n",
              "      <td>1.25</td>\n",
              "      <td>0.93</td>\n",
              "      <td>1.56</td>\n",
              "      <td>1.37</td>\n",
              "      <td>0.59</td>\n",
              "      <td>5.37</td>\n",
              "      <td>17238.13</td>\n",
              "      <td>210.52</td>\n",
              "      <td>2679.30</td>\n",
              "    </tr>\n",
              "  </tbody>\n",
              "</table>\n",
              "</div>"
            ],
            "text/plain": [
              "                      local  ...  International Primary School, Yearly for 1 Child\n",
              "0  Saint Petersburg, Russia  ...                                           5388.86\n",
              "1          Istanbul, Turkey  ...                                           6905.43\n",
              "2             Izmir, Turkey  ...                                           4948.41\n",
              "3         Helsinki, Finland  ...                                           1641.00\n",
              "4         Chisinau, Moldova  ...                                           2679.30\n",
              "\n",
              "[5 rows x 56 columns]"
            ]
          },
          "metadata": {
            "tags": []
          },
          "execution_count": 651
        }
      ]
    },
    {
      "cell_type": "code",
      "metadata": {
        "id": "03-gP0DtlCav",
        "colab_type": "code",
        "outputId": "1add71bb-dc80-493a-c03d-3c26463a35d1",
        "colab": {
          "base_uri": "https://localhost:8080/",
          "height": 34
        }
      },
      "source": [
        "## quantidade de linhas e colunas\n",
        "df.shape"
      ],
      "execution_count": 652,
      "outputs": [
        {
          "output_type": "execute_result",
          "data": {
            "text/plain": [
              "(160, 56)"
            ]
          },
          "metadata": {
            "tags": []
          },
          "execution_count": 652
        }
      ]
    },
    {
      "cell_type": "code",
      "metadata": {
        "id": "uIA8D-TvjoGt",
        "colab_type": "code",
        "outputId": "ce8ab1e7-e939-4d85-b54b-1915c9ffb325",
        "colab": {
          "base_uri": "https://localhost:8080/",
          "height": 986
        }
      },
      "source": [
        "## dados faltantes\n",
        "df.isna().sum()"
      ],
      "execution_count": 653,
      "outputs": [
        {
          "output_type": "execute_result",
          "data": {
            "text/plain": [
              "local                                                                         0\n",
              "Meal, Inexpensive Restaurant                                                  0\n",
              "Meal for 2 People, Mid-range Restaurant, Three-course                         0\n",
              "McMeal at McDonalds (or Equivalent Combo Meal)                                0\n",
              "Domestic Beer (0.5 liter draught)                                             0\n",
              "Imported Beer (0.33 liter bottle)                                             0\n",
              "Coke/Pepsi (0.33 liter bottle)                                                0\n",
              "Water (0.33 liter bottle)                                                     0\n",
              "Milk (regular), (1 liter)                                                     0\n",
              "Loaf of Fresh White Bread (500g)                                              0\n",
              "Eggs (regular) (12)                                                           0\n",
              "Local Cheese (1kg)                                                            0\n",
              "Water (1.5 liter bottle)                                                      0\n",
              "Bottle of Wine (Mid-Range)                                                    0\n",
              "Domestic Beer (0.5 liter bottle)                                              0\n",
              "Imported Beer (0.33 liter bottle)                                             0\n",
              "Cigarettes 20 Pack (Marlboro)                                                 0\n",
              "One-way Ticket (Local Transport)                                              0\n",
              "Chicken Breasts (Boneless, Skinless), (1kg)                                   0\n",
              "Monthly Pass (Regular Price)                                                  0\n",
              "Gasoline (1 liter)                                                            0\n",
              "Volkswagen Golf                                                               0\n",
              "Apartment (1 bedroom) in City Centre                                          0\n",
              "Apartment (1 bedroom) Outside of Centre                                       0\n",
              "Apartment (3 bedrooms) in City Centre                                         0\n",
              "Apartment (3 bedrooms) Outside of Centre                                      0\n",
              "Basic (Electricity, Heating, Cooling, Water, Garbage) for 85m2 Apartment      0\n",
              "1 min. of Prepaid Mobile Tariff Local (No Discounts or Plans)                 0\n",
              "Internet (60 Mbps or More, Unlimited Data, Cable/ADSL)                        0\n",
              "Fitness Club, Monthly Fee for 1 Adult                                         0\n",
              "Tennis Court Rent (1 Hour on Weekend)                                         0\n",
              "Cinema, International Release, 1 Seat                                         0\n",
              "1 Pair of Jeans (Levis 501 Or Similar)                                        0\n",
              "1 Summer Dress in a Chain Store (Zara, H&M, ...)                              0\n",
              "1 Pair of Nike Running Shoes (Mid-Range)                                      0\n",
              "1 Pair of Men Leather Business Shoes                                          0\n",
              "Price per Square Meter to Buy Apartment in City Centre                        0\n",
              "Price per Square Meter to Buy Apartment Outside of Centre                     0\n",
              "Average Monthly Net Salary (After Tax)                                        0\n",
              "Mortgage Interest Rate in Percentages (%), Yearly, for 20 Years Fixed-Rate    0\n",
              "Taxi Start (Normal Tariff)                                                    0\n",
              "Taxi 1km (Normal Tariff)                                                      0\n",
              "Taxi 1hour Waiting (Normal Tariff)                                            0\n",
              "Apples (1kg)                                                                  0\n",
              "Oranges (1kg)                                                                 0\n",
              "Potato (1kg)                                                                  0\n",
              "Lettuce (1 head)                                                              0\n",
              "Cappuccino (regular)                                                          0\n",
              "Rice (white), (1kg)                                                           0\n",
              "Tomato (1kg)                                                                  0\n",
              "Banana (1kg)                                                                  0\n",
              "Onion (1kg)                                                                   0\n",
              "Beef Round (1kg) (or Equivalent Back Leg Red Meat)                            0\n",
              "Toyota Corolla 1.6l 97kW Comfort (Or Equivalent New Car)                      0\n",
              "Preschool (or Kindergarten), Full Day, Private, Monthly for 1 Child           0\n",
              "International Primary School, Yearly for 1 Child                              0\n",
              "dtype: int64"
            ]
          },
          "metadata": {
            "tags": []
          },
          "execution_count": 653
        }
      ]
    },
    {
      "cell_type": "code",
      "metadata": {
        "id": "m7IA1Zn5mPjd",
        "colab_type": "code",
        "colab": {}
      },
      "source": [
        "## criano nova columa média\n",
        "df['media'] = df.sum(axis=1)/55"
      ],
      "execution_count": 0,
      "outputs": []
    },
    {
      "cell_type": "code",
      "metadata": {
        "id": "RcUqB7O6oRjD",
        "colab_type": "code",
        "colab": {}
      },
      "source": [
        "## guardando nomes reais das localidades\n",
        "local = df.local"
      ],
      "execution_count": 0,
      "outputs": []
    },
    {
      "cell_type": "code",
      "metadata": {
        "id": "HKX9ezssLE3G",
        "colab_type": "code",
        "colab": {}
      },
      "source": [
        "## codificando valores utilizando MinMax\n",
        "le = preprocessing.LabelEncoder()\n",
        "df['local'] = le.fit_transform(df['local'])\n",
        "le = preprocessing.MinMaxScaler()\n",
        "df_features = le.fit_transform(df.values)\n",
        "df = pd.DataFrame(df_features, index=df.index, columns=df.columns)\n"
      ],
      "execution_count": 0,
      "outputs": []
    },
    {
      "cell_type": "code",
      "metadata": {
        "id": "tlVADKiCNGF7",
        "colab_type": "code",
        "outputId": "c6a0b112-928b-44d7-8b92-d0430f93dec9",
        "colab": {
          "base_uri": "https://localhost:8080/",
          "height": 360
        }
      },
      "source": [
        "df.head()"
      ],
      "execution_count": 657,
      "outputs": [
        {
          "output_type": "execute_result",
          "data": {
            "text/html": [
              "<div>\n",
              "<style scoped>\n",
              "    .dataframe tbody tr th:only-of-type {\n",
              "        vertical-align: middle;\n",
              "    }\n",
              "\n",
              "    .dataframe tbody tr th {\n",
              "        vertical-align: top;\n",
              "    }\n",
              "\n",
              "    .dataframe thead th {\n",
              "        text-align: right;\n",
              "    }\n",
              "</style>\n",
              "<table border=\"1\" class=\"dataframe\">\n",
              "  <thead>\n",
              "    <tr style=\"text-align: right;\">\n",
              "      <th></th>\n",
              "      <th>local</th>\n",
              "      <th>Meal, Inexpensive Restaurant</th>\n",
              "      <th>Meal for 2 People, Mid-range Restaurant, Three-course</th>\n",
              "      <th>McMeal at McDonalds (or Equivalent Combo Meal)</th>\n",
              "      <th>Domestic Beer (0.5 liter draught)</th>\n",
              "      <th>Imported Beer (0.33 liter bottle)</th>\n",
              "      <th>Coke/Pepsi (0.33 liter bottle)</th>\n",
              "      <th>Water (0.33 liter bottle)</th>\n",
              "      <th>Milk (regular), (1 liter)</th>\n",
              "      <th>Loaf of Fresh White Bread (500g)</th>\n",
              "      <th>Eggs (regular) (12)</th>\n",
              "      <th>Local Cheese (1kg)</th>\n",
              "      <th>Water (1.5 liter bottle)</th>\n",
              "      <th>Bottle of Wine (Mid-Range)</th>\n",
              "      <th>Domestic Beer (0.5 liter bottle)</th>\n",
              "      <th>Imported Beer (0.33 liter bottle)</th>\n",
              "      <th>Cigarettes 20 Pack (Marlboro)</th>\n",
              "      <th>One-way Ticket (Local Transport)</th>\n",
              "      <th>Chicken Breasts (Boneless, Skinless), (1kg)</th>\n",
              "      <th>Monthly Pass (Regular Price)</th>\n",
              "      <th>Gasoline (1 liter)</th>\n",
              "      <th>Volkswagen Golf</th>\n",
              "      <th>Apartment (1 bedroom) in City Centre</th>\n",
              "      <th>Apartment (1 bedroom) Outside of Centre</th>\n",
              "      <th>Apartment (3 bedrooms) in City Centre</th>\n",
              "      <th>Apartment (3 bedrooms) Outside of Centre</th>\n",
              "      <th>Basic (Electricity, Heating, Cooling, Water, Garbage) for 85m2 Apartment</th>\n",
              "      <th>1 min. of Prepaid Mobile Tariff Local (No Discounts or Plans)</th>\n",
              "      <th>Internet (60 Mbps or More, Unlimited Data, Cable/ADSL)</th>\n",
              "      <th>Fitness Club, Monthly Fee for 1 Adult</th>\n",
              "      <th>Tennis Court Rent (1 Hour on Weekend)</th>\n",
              "      <th>Cinema, International Release, 1 Seat</th>\n",
              "      <th>1 Pair of Jeans (Levis 501 Or Similar)</th>\n",
              "      <th>1 Summer Dress in a Chain Store (Zara, H&amp;M, ...)</th>\n",
              "      <th>1 Pair of Nike Running Shoes (Mid-Range)</th>\n",
              "      <th>1 Pair of Men Leather Business Shoes</th>\n",
              "      <th>Price per Square Meter to Buy Apartment in City Centre</th>\n",
              "      <th>Price per Square Meter to Buy Apartment Outside of Centre</th>\n",
              "      <th>Average Monthly Net Salary (After Tax)</th>\n",
              "      <th>Mortgage Interest Rate in Percentages (%), Yearly, for 20 Years Fixed-Rate</th>\n",
              "      <th>Taxi Start (Normal Tariff)</th>\n",
              "      <th>Taxi 1km (Normal Tariff)</th>\n",
              "      <th>Taxi 1hour Waiting (Normal Tariff)</th>\n",
              "      <th>Apples (1kg)</th>\n",
              "      <th>Oranges (1kg)</th>\n",
              "      <th>Potato (1kg)</th>\n",
              "      <th>Lettuce (1 head)</th>\n",
              "      <th>Cappuccino (regular)</th>\n",
              "      <th>Rice (white), (1kg)</th>\n",
              "      <th>Tomato (1kg)</th>\n",
              "      <th>Banana (1kg)</th>\n",
              "      <th>Onion (1kg)</th>\n",
              "      <th>Beef Round (1kg) (or Equivalent Back Leg Red Meat)</th>\n",
              "      <th>Toyota Corolla 1.6l 97kW Comfort (Or Equivalent New Car)</th>\n",
              "      <th>Preschool (or Kindergarten), Full Day, Private, Monthly for 1 Child</th>\n",
              "      <th>International Primary School, Yearly for 1 Child</th>\n",
              "      <th>media</th>\n",
              "    </tr>\n",
              "  </thead>\n",
              "  <tbody>\n",
              "    <tr>\n",
              "      <th>0</th>\n",
              "      <td>0.748428</td>\n",
              "      <td>0.270458</td>\n",
              "      <td>0.214236</td>\n",
              "      <td>0.167961</td>\n",
              "      <td>0.137198</td>\n",
              "      <td>0.100705</td>\n",
              "      <td>0.131285</td>\n",
              "      <td>0.127036</td>\n",
              "      <td>0.262222</td>\n",
              "      <td>0.188854</td>\n",
              "      <td>0.093886</td>\n",
              "      <td>0.235892</td>\n",
              "      <td>0.211340</td>\n",
              "      <td>0.118195</td>\n",
              "      <td>0.053672</td>\n",
              "      <td>0.136243</td>\n",
              "      <td>0.062909</td>\n",
              "      <td>0.125641</td>\n",
              "      <td>0.070367</td>\n",
              "      <td>0.239981</td>\n",
              "      <td>0.178344</td>\n",
              "      <td>0.147889</td>\n",
              "      <td>0.129025</td>\n",
              "      <td>0.108230</td>\n",
              "      <td>0.135184</td>\n",
              "      <td>0.107459</td>\n",
              "      <td>0.338557</td>\n",
              "      <td>0.046512</td>\n",
              "      <td>0.028362</td>\n",
              "      <td>0.137406</td>\n",
              "      <td>0.535465</td>\n",
              "      <td>0.184975</td>\n",
              "      <td>0.574003</td>\n",
              "      <td>0.490665</td>\n",
              "      <td>0.413687</td>\n",
              "      <td>0.507578</td>\n",
              "      <td>0.070084</td>\n",
              "      <td>0.070560</td>\n",
              "      <td>0.075688</td>\n",
              "      <td>0.188332</td>\n",
              "      <td>0.131658</td>\n",
              "      <td>0.029851</td>\n",
              "      <td>0.051927</td>\n",
              "      <td>0.118893</td>\n",
              "      <td>0.159259</td>\n",
              "      <td>0.084507</td>\n",
              "      <td>0.277311</td>\n",
              "      <td>0.284141</td>\n",
              "      <td>0.077220</td>\n",
              "      <td>0.288355</td>\n",
              "      <td>0.135762</td>\n",
              "      <td>0.073016</td>\n",
              "      <td>0.072246</td>\n",
              "      <td>0.144916</td>\n",
              "      <td>0.173699</td>\n",
              "      <td>0.136710</td>\n",
              "      <td>0.147423</td>\n",
              "    </tr>\n",
              "    <tr>\n",
              "      <th>1</th>\n",
              "      <td>0.396226</td>\n",
              "      <td>0.142857</td>\n",
              "      <td>0.075711</td>\n",
              "      <td>0.111650</td>\n",
              "      <td>0.220290</td>\n",
              "      <td>0.187311</td>\n",
              "      <td>0.097765</td>\n",
              "      <td>0.032573</td>\n",
              "      <td>0.142222</td>\n",
              "      <td>0.080495</td>\n",
              "      <td>0.189956</td>\n",
              "      <td>0.119980</td>\n",
              "      <td>0.056701</td>\n",
              "      <td>0.184191</td>\n",
              "      <td>0.182203</td>\n",
              "      <td>0.214286</td>\n",
              "      <td>0.090589</td>\n",
              "      <td>0.079487</td>\n",
              "      <td>0.050262</td>\n",
              "      <td>0.171519</td>\n",
              "      <td>0.420382</td>\n",
              "      <td>0.224518</td>\n",
              "      <td>0.051204</td>\n",
              "      <td>0.040188</td>\n",
              "      <td>0.048306</td>\n",
              "      <td>0.035152</td>\n",
              "      <td>0.165087</td>\n",
              "      <td>0.232558</td>\n",
              "      <td>0.109848</td>\n",
              "      <td>0.122909</td>\n",
              "      <td>0.450918</td>\n",
              "      <td>0.091425</td>\n",
              "      <td>0.158819</td>\n",
              "      <td>0.195309</td>\n",
              "      <td>0.259166</td>\n",
              "      <td>0.157365</td>\n",
              "      <td>0.027321</td>\n",
              "      <td>0.021223</td>\n",
              "      <td>0.042721</td>\n",
              "      <td>0.374128</td>\n",
              "      <td>0.060302</td>\n",
              "      <td>0.082090</td>\n",
              "      <td>0.040858</td>\n",
              "      <td>0.047231</td>\n",
              "      <td>0.087037</td>\n",
              "      <td>0.092958</td>\n",
              "      <td>0.172269</td>\n",
              "      <td>0.257709</td>\n",
              "      <td>0.150579</td>\n",
              "      <td>0.083179</td>\n",
              "      <td>0.473510</td>\n",
              "      <td>0.117460</td>\n",
              "      <td>0.133047</td>\n",
              "      <td>0.172851</td>\n",
              "      <td>0.113961</td>\n",
              "      <td>0.181774</td>\n",
              "      <td>0.173245</td>\n",
              "    </tr>\n",
              "    <tr>\n",
              "      <th>2</th>\n",
              "      <td>0.402516</td>\n",
              "      <td>0.072584</td>\n",
              "      <td>0.045584</td>\n",
              "      <td>0.037864</td>\n",
              "      <td>0.145894</td>\n",
              "      <td>0.156093</td>\n",
              "      <td>0.089385</td>\n",
              "      <td>0.026059</td>\n",
              "      <td>0.115556</td>\n",
              "      <td>0.086687</td>\n",
              "      <td>0.165939</td>\n",
              "      <td>0.102186</td>\n",
              "      <td>0.036082</td>\n",
              "      <td>0.127144</td>\n",
              "      <td>0.159605</td>\n",
              "      <td>0.162698</td>\n",
              "      <td>0.067438</td>\n",
              "      <td>0.092308</td>\n",
              "      <td>0.030594</td>\n",
              "      <td>0.120356</td>\n",
              "      <td>0.414013</td>\n",
              "      <td>0.224518</td>\n",
              "      <td>0.024696</td>\n",
              "      <td>0.020022</td>\n",
              "      <td>0.012638</td>\n",
              "      <td>0.013562</td>\n",
              "      <td>0.131641</td>\n",
              "      <td>0.186047</td>\n",
              "      <td>0.095104</td>\n",
              "      <td>0.067650</td>\n",
              "      <td>0.324573</td>\n",
              "      <td>0.037562</td>\n",
              "      <td>0.124520</td>\n",
              "      <td>0.113212</td>\n",
              "      <td>0.161581</td>\n",
              "      <td>0.098834</td>\n",
              "      <td>0.010426</td>\n",
              "      <td>0.012587</td>\n",
              "      <td>0.035823</td>\n",
              "      <td>0.440710</td>\n",
              "      <td>0.045226</td>\n",
              "      <td>0.106965</td>\n",
              "      <td>0.039765</td>\n",
              "      <td>0.034202</td>\n",
              "      <td>0.062963</td>\n",
              "      <td>0.073239</td>\n",
              "      <td>0.155462</td>\n",
              "      <td>0.196035</td>\n",
              "      <td>0.152510</td>\n",
              "      <td>0.064695</td>\n",
              "      <td>0.430464</td>\n",
              "      <td>0.104762</td>\n",
              "      <td>0.106342</td>\n",
              "      <td>0.173280</td>\n",
              "      <td>0.081165</td>\n",
              "      <td>0.123623</td>\n",
              "      <td>0.155524</td>\n",
              "    </tr>\n",
              "    <tr>\n",
              "      <th>3</th>\n",
              "      <td>0.358491</td>\n",
              "      <td>0.485899</td>\n",
              "      <td>0.565226</td>\n",
              "      <td>0.517476</td>\n",
              "      <td>0.552657</td>\n",
              "      <td>0.558912</td>\n",
              "      <td>0.662011</td>\n",
              "      <td>0.570033</td>\n",
              "      <td>0.253333</td>\n",
              "      <td>0.671827</td>\n",
              "      <td>0.277293</td>\n",
              "      <td>0.198780</td>\n",
              "      <td>0.680412</td>\n",
              "      <td>0.346756</td>\n",
              "      <td>0.244350</td>\n",
              "      <td>0.276455</td>\n",
              "      <td>0.339708</td>\n",
              "      <td>0.692308</td>\n",
              "      <td>0.309003</td>\n",
              "      <td>0.344378</td>\n",
              "      <td>0.732484</td>\n",
              "      <td>0.188191</td>\n",
              "      <td>0.283559</td>\n",
              "      <td>0.277307</td>\n",
              "      <td>0.285265</td>\n",
              "      <td>0.265451</td>\n",
              "      <td>0.259556</td>\n",
              "      <td>0.139535</td>\n",
              "      <td>0.201125</td>\n",
              "      <td>0.239871</td>\n",
              "      <td>0.737809</td>\n",
              "      <td>0.812899</td>\n",
              "      <td>0.708290</td>\n",
              "      <td>0.326951</td>\n",
              "      <td>0.500342</td>\n",
              "      <td>0.649019</td>\n",
              "      <td>0.253107</td>\n",
              "      <td>0.220872</td>\n",
              "      <td>0.348387</td>\n",
              "      <td>0.000000</td>\n",
              "      <td>0.586935</td>\n",
              "      <td>0.213930</td>\n",
              "      <td>0.634600</td>\n",
              "      <td>0.250814</td>\n",
              "      <td>0.251852</td>\n",
              "      <td>0.183099</td>\n",
              "      <td>0.882353</td>\n",
              "      <td>0.704846</td>\n",
              "      <td>0.310811</td>\n",
              "      <td>0.473198</td>\n",
              "      <td>0.374172</td>\n",
              "      <td>0.317460</td>\n",
              "      <td>0.195279</td>\n",
              "      <td>0.235649</td>\n",
              "      <td>0.145784</td>\n",
              "      <td>0.025346</td>\n",
              "      <td>0.237251</td>\n",
              "    </tr>\n",
              "    <tr>\n",
              "      <th>4</th>\n",
              "      <td>0.238994</td>\n",
              "      <td>0.147018</td>\n",
              "      <td>0.129467</td>\n",
              "      <td>0.143689</td>\n",
              "      <td>0.025121</td>\n",
              "      <td>0.023162</td>\n",
              "      <td>0.097765</td>\n",
              "      <td>0.097720</td>\n",
              "      <td>0.128889</td>\n",
              "      <td>0.071207</td>\n",
              "      <td>0.078603</td>\n",
              "      <td>0.143874</td>\n",
              "      <td>0.190722</td>\n",
              "      <td>0.033930</td>\n",
              "      <td>0.038136</td>\n",
              "      <td>0.068783</td>\n",
              "      <td>0.030700</td>\n",
              "      <td>0.000000</td>\n",
              "      <td>0.052448</td>\n",
              "      <td>0.037581</td>\n",
              "      <td>0.375796</td>\n",
              "      <td>0.103963</td>\n",
              "      <td>0.035479</td>\n",
              "      <td>0.040286</td>\n",
              "      <td>0.026573</td>\n",
              "      <td>0.038972</td>\n",
              "      <td>0.384273</td>\n",
              "      <td>0.139535</td>\n",
              "      <td>0.046595</td>\n",
              "      <td>0.141990</td>\n",
              "      <td>0.338189</td>\n",
              "      <td>0.188519</td>\n",
              "      <td>0.395884</td>\n",
              "      <td>0.421733</td>\n",
              "      <td>0.543156</td>\n",
              "      <td>0.463295</td>\n",
              "      <td>0.012204</td>\n",
              "      <td>0.017284</td>\n",
              "      <td>0.019316</td>\n",
              "      <td>0.169943</td>\n",
              "      <td>0.114573</td>\n",
              "      <td>0.009950</td>\n",
              "      <td>0.034299</td>\n",
              "      <td>0.022801</td>\n",
              "      <td>0.153704</td>\n",
              "      <td>0.084507</td>\n",
              "      <td>0.268908</td>\n",
              "      <td>0.127753</td>\n",
              "      <td>0.079151</td>\n",
              "      <td>0.223660</td>\n",
              "      <td>0.294702</td>\n",
              "      <td>0.107937</td>\n",
              "      <td>0.029089</td>\n",
              "      <td>0.108122</td>\n",
              "      <td>0.080396</td>\n",
              "      <td>0.056198</td>\n",
              "      <td>0.078457</td>\n",
              "    </tr>\n",
              "  </tbody>\n",
              "</table>\n",
              "</div>"
            ],
            "text/plain": [
              "      local  ...     media\n",
              "0  0.748428  ...  0.147423\n",
              "1  0.396226  ...  0.173245\n",
              "2  0.402516  ...  0.155524\n",
              "3  0.358491  ...  0.237251\n",
              "4  0.238994  ...  0.078457\n",
              "\n",
              "[5 rows x 57 columns]"
            ]
          },
          "metadata": {
            "tags": []
          },
          "execution_count": 657
        }
      ]
    },
    {
      "cell_type": "markdown",
      "metadata": {
        "id": "WpGYKjSUXEHO",
        "colab_type": "text"
      },
      "source": [
        "<h2>Clusterizando utilizando todos os dados presentes</h2>"
      ]
    },
    {
      "cell_type": "code",
      "metadata": {
        "id": "pjPbkTrqUfBq",
        "colab_type": "code",
        "colab": {
          "base_uri": "https://localhost:8080/",
          "height": 295
        },
        "outputId": "f081d074-e215-4926-8097-261602942867"
      },
      "source": [
        "## descobrindo a melhor quantidade de clusters através do método elbow\n",
        "Sum_of_squared_distances = []\n",
        "K = range(1,15)\n",
        "for k in K:\n",
        "    km = KMeans(n_clusters=k)\n",
        "    km = km.fit(df)\n",
        "    Sum_of_squared_distances.append(km.inertia_)\n",
        "plt.plot(K, Sum_of_squared_distances, 'bx-')\n",
        "plt.xlabel('k')\n",
        "plt.ylabel('Sum_of_squared_distances')\n",
        "plt.title('Método Elbow para melhor número de clusters')\n",
        "plt.show()"
      ],
      "execution_count": 658,
      "outputs": [
        {
          "output_type": "display_data",
          "data": {
            "image/png": "[encoded data removed]",
            "text/plain": [
              "<Figure size 432x288 with 1 Axes>"
            ]
          },
          "metadata": {
            "tags": [],
            "needs_background": "light"
          }
        }
      ]
    },
    {
      "cell_type": "code",
      "metadata": {
        "id": "tdcAjjW5rFF_",
        "colab_type": "code",
        "colab": {
          "base_uri": "https://localhost:8080/",
          "height": 340
        },
        "outputId": "d5558a56-4811-4eef-b827-07f7d358458e"
      },
      "source": [
        "## descobrindo a melhor quantidade de clusters através do método elbow\n",
        "for k in range(2, 21):\n",
        "    kmeans_model = KMeans(n_clusters=k, random_state=1).fit(df)\n",
        "    labels = kmeans_model.labels_\n",
        "    labels = kmeans_model.labels_\n",
        "    print (k, metrics.calinski_harabaz_score(df, labels))"
      ],
      "execution_count": 659,
      "outputs": [
        {
          "output_type": "stream",
          "text": [
            "2 123.71319709217052\n",
            "3 77.56135879935665\n",
            "4 62.20964325280657\n",
            "5 53.340975600178666\n",
            "6 48.21186608826126\n",
            "7 42.8286949199894\n",
            "8 40.21963636939824\n",
            "9 38.24225957037973\n",
            "10 36.00339298400224\n",
            "11 33.9731029451027\n",
            "12 33.04915072726885\n",
            "13 32.480179706232825\n",
            "14 31.428345956553382\n",
            "15 30.180712939905543\n",
            "16 29.594013536057716\n",
            "17 29.40295938868366\n",
            "18 28.232161749674585\n",
            "19 28.86553348249012\n",
            "20 28.14539562528673\n"
          ],
          "name": "stdout"
        }
      ]
    },
    {
      "cell_type": "markdown",
      "metadata": {
        "id": "q8hALzTCsgjT",
        "colab_type": "text"
      },
      "source": [
        "Ambos os métodos chegaram a uma quantidade de 2 clusters, como melhor quantidade"
      ]
    },
    {
      "cell_type": "code",
      "metadata": {
        "id": "H3hLqu4kHoaH",
        "colab_type": "code",
        "outputId": "ce0bbbe7-f39e-439a-f170-34ace04df148",
        "colab": {
          "base_uri": "https://localhost:8080/",
          "height": 68
        }
      },
      "source": [
        "## Treinando com coluna de média\n",
        "kmeans = KMeans(n_clusters=2)\n",
        "kmeans.fit(df)"
      ],
      "execution_count": 660,
      "outputs": [
        {
          "output_type": "execute_result",
          "data": {
            "text/plain": [
              "KMeans(algorithm='auto', copy_x=True, init='k-means++', max_iter=300,\n",
              "       n_clusters=2, n_init=10, n_jobs=None, precompute_distances='auto',\n",
              "       random_state=None, tol=0.0001, verbose=0)"
            ]
          },
          "metadata": {
            "tags": []
          },
          "execution_count": 660
        }
      ]
    },
    {
      "cell_type": "code",
      "metadata": {
        "id": "rAdJu8MMNNQi",
        "colab_type": "code",
        "outputId": "ebecc818-037d-4a6f-bb9e-f29ee5f07849",
        "colab": {
          "base_uri": "https://localhost:8080/",
          "height": 357
        }
      },
      "source": [
        "print(kmeans.cluster_centers_)"
      ],
      "execution_count": 661,
      "outputs": [
        {
          "output_type": "stream",
          "text": [
            "[[0.48245283 0.17486824 0.16090676 0.176      0.11036715 0.13685801\n",
            "  0.15854749 0.14368078 0.21826667 0.19591331 0.16170306 0.18540417\n",
            "  0.17494845 0.16256525 0.08320621 0.12097884 0.10684952 0.13507692\n",
            "  0.08312937 0.11658424 0.40165605 0.14203311 0.08913207 0.07836977\n",
            "  0.09227823 0.07881638 0.28614634 0.17465116 0.17722679 0.18036675\n",
            "  0.32412603 0.19103473 0.33177421 0.34241264 0.3547381  0.30842635\n",
            "  0.05851951 0.05797394 0.07069105 0.15580004 0.11594975 0.10783582\n",
            "  0.07300765 0.13159609 0.14898148 0.11521127 0.21462185 0.25213656\n",
            "  0.09737452 0.14861368 0.21337748 0.14619048 0.07268479 0.15356049\n",
            "  0.08802798 0.13069504 0.13897655]\n",
            " [0.52924528 0.50709663 0.47163697 0.47411003 0.45441224 0.44405841\n",
            "  0.45917132 0.45119435 0.35792593 0.57987616 0.40171033 0.38054567\n",
            "  0.52706186 0.30766841 0.22111582 0.22175926 0.40136722 0.55448718\n",
            "  0.28889132 0.42946157 0.47749469 0.19225317 0.38206332 0.35567825\n",
            "  0.37662771 0.35024093 0.47920783 0.34224806 0.46157944 0.37500103\n",
            "  0.52860988 0.61237893 0.48523234 0.42699856 0.48342253 0.54008987\n",
            "  0.2283902  0.23067569 0.41952979 0.04179525 0.32874372 0.3391791\n",
            "  0.37468798 0.39421824 0.40496914 0.44399061 0.53326331 0.59100587\n",
            "  0.38503861 0.47184227 0.41782561 0.45608466 0.22534971 0.18707425\n",
            "  0.36053426 0.35677269 0.29666808]]\n"
          ],
          "name": "stdout"
        }
      ]
    },
    {
      "cell_type": "code",
      "metadata": {
        "id": "T4k74QnfNXa9",
        "colab_type": "code",
        "outputId": "496909df-d904-475c-bcf0-f7fd7d92d3b2",
        "colab": {
          "base_uri": "https://localhost:8080/",
          "height": 102
        }
      },
      "source": [
        "print(kmeans.labels_)"
      ],
      "execution_count": 662,
      "outputs": [
        {
          "output_type": "stream",
          "text": [
            "[0 0 0 1 0 1 0 0 0 0 0 0 0 0 1 0 0 0 0 0 1 0 1 1 0 0 1 1 0 0 1 0 1 0 0 1 1\n",
            " 0 1 1 1 1 0 1 1 1 1 1 1 0 1 1 0 1 0 1 0 0 0 0 0 1 1 0 1 0 0 1 0 1 1 1 0 1\n",
            " 0 0 0 0 1 1 0 0 0 0 0 0 1 1 1 0 0 0 0 0 0 0 0 0 0 1 1 0 1 0 0 0 0 0 0 0 0\n",
            " 0 0 1 0 0 0 1 0 0 1 0 1 0 0 0 0 0 1 0 0 1 0 0 1 0 0 1 0 1 1 0 0 1 1 0 0 1\n",
            " 0 0 0 0 0 1 1 1 1 1 0 0]\n"
          ],
          "name": "stdout"
        }
      ]
    },
    {
      "cell_type": "code",
      "metadata": {
        "id": "PJ4iTd4jNg88",
        "colab_type": "code",
        "outputId": "4ef81aac-c693-44d3-dd5b-3f2d2b8ed202",
        "colab": {
          "base_uri": "https://localhost:8080/",
          "height": 282
        }
      },
      "source": [
        "### plotando clusters de Meal, Inexpensive Restaurant (2 coluna)\n",
        "plt.scatter(df.iloc[:,0],df.iloc[:,1], c=kmeans.labels_, cmap='rainbow')\n",
        "plt.scatter(kmeans.cluster_centers_[:,0] ,kmeans.cluster_centers_[:,1], color='black')"
      ],
      "execution_count": 663,
      "outputs": [
        {
          "output_type": "execute_result",
          "data": {
            "text/plain": [
              "<matplotlib.collections.PathCollection at 0x7f94a34ce470>"
            ]
          },
          "metadata": {
            "tags": []
          },
          "execution_count": 663
        },
        {
          "output_type": "display_data",
          "data": {
            "image/png": "[encoded data removed]",
            "text/plain": [
              "<Figure size 432x288 with 1 Axes>"
            ]
          },
          "metadata": {
            "tags": [],
            "needs_background": "light"
          }
        }
      ]
    },
    {
      "cell_type": "markdown",
      "metadata": {
        "id": "uwOpIYt9Wowc",
        "colab_type": "text"
      },
      "source": [
        "<h2>Clusterizando a média de valores</h2>"
      ]
    },
    {
      "cell_type": "code",
      "metadata": {
        "id": "rbq8pdkAWyMv",
        "colab_type": "code",
        "colab": {
          "base_uri": "https://localhost:8080/",
          "height": 295
        },
        "outputId": "c4f02848-b3ff-4046-f1ac-70c9fd746e8b"
      },
      "source": [
        "## descobrindo a melhor quantidade de clusters através do método elbow\n",
        "df_media = df[['local','media']]\n",
        "Sum_of_squared_distances = []\n",
        "K = range(1,15)\n",
        "for k in K:\n",
        "    km = KMeans(n_clusters=k)\n",
        "    km = km.fit(df_media)\n",
        "    Sum_of_squared_distances.append(km.inertia_)\n",
        "plt.plot(K, Sum_of_squared_distances, 'bx-')\n",
        "plt.xlabel('k')\n",
        "plt.ylabel('Sum_of_squared_distances')\n",
        "plt.title('Método Elbow para melhor número de clusters')\n",
        "plt.show()"
      ],
      "execution_count": 664,
      "outputs": [
        {
          "output_type": "display_data",
          "data": {
            "image/png": "[encoded data removed]",
            "text/plain": [
              "<Figure size 432x288 with 1 Axes>"
            ]
          },
          "metadata": {
            "tags": [],
            "needs_background": "light"
          }
        }
      ]
    },
    {
      "cell_type": "code",
      "metadata": {
        "id": "AcLB5ajIsx_t",
        "colab_type": "code",
        "colab": {
          "base_uri": "https://localhost:8080/",
          "height": 459
        },
        "outputId": "aad340b9-0ef7-4150-cfe0-b72b6cf38bbc"
      },
      "source": [
        "## descobrindo a melhor quantidade de clusters através do método elbow\n",
        "for k in range(2, 28):\n",
        "    kmeans_model = KMeans(n_clusters=k, random_state=1).fit(df_media)\n",
        "    labels = kmeans_model.labels_\n",
        "    labels = kmeans_model.labels_\n",
        "    print (k, metrics.calinski_harabaz_score(df_media, labels))"
      ],
      "execution_count": 665,
      "outputs": [
        {
          "output_type": "stream",
          "text": [
            "2 276.35008852217976\n",
            "3 242.44754933667724\n",
            "4 205.48950634487133\n",
            "5 211.4605879212938\n",
            "6 204.7633275979171\n",
            "7 207.48318079343215\n",
            "8 214.74143726025827\n",
            "9 220.15391650180663\n",
            "10 226.65773257612125\n",
            "11 225.6178233294329\n",
            "12 235.9876840426983\n",
            "13 243.11839666749776\n",
            "14 244.290653285911\n",
            "15 241.46150775746747\n",
            "16 241.43065218801428\n",
            "17 250.0288306967635\n",
            "18 247.48466655201244\n",
            "19 252.24947065084098\n",
            "20 257.8168519365993\n",
            "21 258.1531531766919\n",
            "22 254.91511598932436\n",
            "23 257.62730659720654\n",
            "24 258.55112047847956\n",
            "25 260.1914428267263\n",
            "26 263.51617247751756\n",
            "27 260.759139296555\n"
          ],
          "name": "stdout"
        }
      ]
    },
    {
      "cell_type": "code",
      "metadata": {
        "id": "Ih-9PzjOWhAK",
        "colab_type": "code",
        "colab": {
          "base_uri": "https://localhost:8080/",
          "height": 282
        },
        "outputId": "5ef1cf05-1d93-4801-cf7d-eec48e5900fd"
      },
      "source": [
        "\n",
        "kmeans = KMeans(n_clusters=2)\n",
        "kmeans.fit(df_media)\n",
        "plt.scatter(df_media.iloc[:,0],df_media.iloc[:,1], c=kmeans.labels_, cmap='rainbow')\n",
        "plt.scatter(kmeans.cluster_centers_[:,0] ,kmeans.cluster_centers_[:,1], color='black')\n"
      ],
      "execution_count": 666,
      "outputs": [
        {
          "output_type": "execute_result",
          "data": {
            "text/plain": [
              "<matplotlib.collections.PathCollection at 0x7f94a335a5f8>"
            ]
          },
          "metadata": {
            "tags": []
          },
          "execution_count": 666
        },
        {
          "output_type": "display_data",
          "data": {
            "image/png": "[encoded data removed]",
            "text/plain": [
              "<Figure size 432x288 with 1 Axes>"
            ]
          },
          "metadata": {
            "tags": [],
            "needs_background": "light"
          }
        }
      ]
    },
    {
      "cell_type": "code",
      "metadata": {
        "id": "pWzCJZHoWdLi",
        "colab_type": "code",
        "outputId": "cbd69667-9579-4c07-aaa3-f0f62747d747",
        "colab": {
          "base_uri": "https://localhost:8080/",
          "height": 204
        }
      },
      "source": [
        "## y = kmeans.fit_predict(df[['Feat_1', 'Feat_2', 'Feat_3', 'Feat_4']])\n",
        "y = kmeans.fit_predict(df_media)\n",
        "df_media['Cluster'] = y\n",
        "df_media.head()"
      ],
      "execution_count": 667,
      "outputs": [
        {
          "output_type": "execute_result",
          "data": {
            "text/html": [
              "<div>\n",
              "<style scoped>\n",
              "    .dataframe tbody tr th:only-of-type {\n",
              "        vertical-align: middle;\n",
              "    }\n",
              "\n",
              "    .dataframe tbody tr th {\n",
              "        vertical-align: top;\n",
              "    }\n",
              "\n",
              "    .dataframe thead th {\n",
              "        text-align: right;\n",
              "    }\n",
              "</style>\n",
              "<table border=\"1\" class=\"dataframe\">\n",
              "  <thead>\n",
              "    <tr style=\"text-align: right;\">\n",
              "      <th></th>\n",
              "      <th>local</th>\n",
              "      <th>media</th>\n",
              "      <th>Cluster</th>\n",
              "    </tr>\n",
              "  </thead>\n",
              "  <tbody>\n",
              "    <tr>\n",
              "      <th>0</th>\n",
              "      <td>0.748428</td>\n",
              "      <td>0.147423</td>\n",
              "      <td>1</td>\n",
              "    </tr>\n",
              "    <tr>\n",
              "      <th>1</th>\n",
              "      <td>0.396226</td>\n",
              "      <td>0.173245</td>\n",
              "      <td>0</td>\n",
              "    </tr>\n",
              "    <tr>\n",
              "      <th>2</th>\n",
              "      <td>0.402516</td>\n",
              "      <td>0.155524</td>\n",
              "      <td>0</td>\n",
              "    </tr>\n",
              "    <tr>\n",
              "      <th>3</th>\n",
              "      <td>0.358491</td>\n",
              "      <td>0.237251</td>\n",
              "      <td>0</td>\n",
              "    </tr>\n",
              "    <tr>\n",
              "      <th>4</th>\n",
              "      <td>0.238994</td>\n",
              "      <td>0.078457</td>\n",
              "      <td>0</td>\n",
              "    </tr>\n",
              "  </tbody>\n",
              "</table>\n",
              "</div>"
            ],
            "text/plain": [
              "      local     media  Cluster\n",
              "0  0.748428  0.147423        1\n",
              "1  0.396226  0.173245        0\n",
              "2  0.402516  0.155524        0\n",
              "3  0.358491  0.237251        0\n",
              "4  0.238994  0.078457        0"
            ]
          },
          "metadata": {
            "tags": []
          },
          "execution_count": 667
        }
      ]
    },
    {
      "cell_type": "code",
      "metadata": {
        "id": "CyZNhOtWtgGV",
        "colab_type": "code",
        "colab": {
          "base_uri": "https://localhost:8080/",
          "height": 419
        },
        "outputId": "0e534008-a24e-4634-a284-7f6f5a57e093"
      },
      "source": [
        "## criando nova coluna com os nomes reais\n",
        "df_media['local_desc'] = local\n",
        "df_media.sort_values('media')"
      ],
      "execution_count": 669,
      "outputs": [
        {
          "output_type": "execute_result",
          "data": {
            "text/html": [
              "<div>\n",
              "<style scoped>\n",
              "    .dataframe tbody tr th:only-of-type {\n",
              "        vertical-align: middle;\n",
              "    }\n",
              "\n",
              "    .dataframe tbody tr th {\n",
              "        vertical-align: top;\n",
              "    }\n",
              "\n",
              "    .dataframe thead th {\n",
              "        text-align: right;\n",
              "    }\n",
              "</style>\n",
              "<table border=\"1\" class=\"dataframe\">\n",
              "  <thead>\n",
              "    <tr style=\"text-align: right;\">\n",
              "      <th></th>\n",
              "      <th>local</th>\n",
              "      <th>media</th>\n",
              "      <th>Cluster</th>\n",
              "      <th>local_desc</th>\n",
              "    </tr>\n",
              "  </thead>\n",
              "  <tbody>\n",
              "    <tr>\n",
              "      <th>63</th>\n",
              "      <td>0.867925</td>\n",
              "      <td>0.000000</td>\n",
              "      <td>1</td>\n",
              "      <td>Tbilisi, Georgia</td>\n",
              "    </tr>\n",
              "    <tr>\n",
              "      <th>123</th>\n",
              "      <td>0.452830</td>\n",
              "      <td>0.047336</td>\n",
              "      <td>0</td>\n",
              "      <td>Kolkata, India</td>\n",
              "    </tr>\n",
              "    <tr>\n",
              "      <th>106</th>\n",
              "      <td>0.012579</td>\n",
              "      <td>0.053710</td>\n",
              "      <td>0</td>\n",
              "      <td>Ahmedabad, India</td>\n",
              "    </tr>\n",
              "    <tr>\n",
              "      <th>83</th>\n",
              "      <td>0.610063</td>\n",
              "      <td>0.058805</td>\n",
              "      <td>1</td>\n",
              "      <td>Noida, India</td>\n",
              "    </tr>\n",
              "    <tr>\n",
              "      <th>81</th>\n",
              "      <td>0.220126</td>\n",
              "      <td>0.063832</td>\n",
              "      <td>0</td>\n",
              "      <td>Chandigarh, India</td>\n",
              "    </tr>\n",
              "    <tr>\n",
              "      <th>...</th>\n",
              "      <td>...</td>\n",
              "      <td>...</td>\n",
              "      <td>...</td>\n",
              "      <td>...</td>\n",
              "    </tr>\n",
              "    <tr>\n",
              "      <th>144</th>\n",
              "      <td>1.000000</td>\n",
              "      <td>0.468886</td>\n",
              "      <td>1</td>\n",
              "      <td>Zurich, Switzerland</td>\n",
              "    </tr>\n",
              "    <tr>\n",
              "      <th>100</th>\n",
              "      <td>0.761006</td>\n",
              "      <td>0.481590</td>\n",
              "      <td>1</td>\n",
              "      <td>San Francisco, CA, United States</td>\n",
              "    </tr>\n",
              "    <tr>\n",
              "      <th>78</th>\n",
              "      <td>0.603774</td>\n",
              "      <td>0.495593</td>\n",
              "      <td>1</td>\n",
              "      <td>New York, NY, United States</td>\n",
              "    </tr>\n",
              "    <tr>\n",
              "      <th>87</th>\n",
              "      <td>0.371069</td>\n",
              "      <td>0.593971</td>\n",
              "      <td>0</td>\n",
              "      <td>Hong Kong, Hong Kong</td>\n",
              "    </tr>\n",
              "    <tr>\n",
              "      <th>39</th>\n",
              "      <td>0.817610</td>\n",
              "      <td>1.000000</td>\n",
              "      <td>1</td>\n",
              "      <td>Singapore, Singapore</td>\n",
              "    </tr>\n",
              "  </tbody>\n",
              "</table>\n",
              "<p>160 rows × 4 columns</p>\n",
              "</div>"
            ],
            "text/plain": [
              "        local     media  Cluster                        local_desc\n",
              "63   0.867925  0.000000        1                  Tbilisi, Georgia\n",
              "123  0.452830  0.047336        0                    Kolkata, India\n",
              "106  0.012579  0.053710        0                  Ahmedabad, India\n",
              "83   0.610063  0.058805        1                      Noida, India\n",
              "81   0.220126  0.063832        0                 Chandigarh, India\n",
              "..        ...       ...      ...                               ...\n",
              "144  1.000000  0.468886        1               Zurich, Switzerland\n",
              "100  0.761006  0.481590        1  San Francisco, CA, United States\n",
              "78   0.603774  0.495593        1       New York, NY, United States\n",
              "87   0.371069  0.593971        0              Hong Kong, Hong Kong\n",
              "39   0.817610  1.000000        1              Singapore, Singapore\n",
              "\n",
              "[160 rows x 4 columns]"
            ]
          },
          "metadata": {
            "tags": []
          },
          "execution_count": 669
        }
      ]
    },
    {
      "cell_type": "code",
      "metadata": {
        "id": "TrvEUT_f3CHI",
        "colab_type": "code",
        "colab": {}
      },
      "source": [
        "## criando csv\n",
        "##df_media.to_csv('lugares', sep='\\t')"
      ],
      "execution_count": 0,
      "outputs": []
    }
  ]
}